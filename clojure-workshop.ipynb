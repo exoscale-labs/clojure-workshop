{
 "cells": [
  {
   "cell_type": "markdown",
   "metadata": {},
   "source": [
    "# Clojure workshop\n",
    "\n",
    "[Nicolas Fränkel](https://twitter.com/nicolas_frankel) @ [Exoscale](https://www.exoscale.com/)\n",
    "\n",
    "\n",
    "0. [References](#References)\n",
    "1. [A word to the wise](#A-word-to-the-wise)\n",
    "2. [A blazing quick introduction](#A-blazing-quick-introduction)\n",
    "3. [Straight into the pit](#Straight-into-the-pit)\n",
    "4. [Variables](#Variables)\n",
    "5. [Types](#Types)\n",
    "6. [Functions](#Functions)\n",
    "7. [Control flow](#Control-flow)\n",
    "8. [Macros](#Macros)\n",
    "9. [Collections](#Collections)\n",
    "\n",
    "\n",
    "## References\n",
    "\n",
    "* [Guides](https://clojure.org/guides/)\n",
    "* [Cheatsheet](https://clojure.org/api/cheatsheet)\n",
    "* [Clojure docs](https://clojuredocs.org/)\n",
    "* [Clojure for the Brave and True](https://www.braveclojure.com/)\n",
    "\n",
    "## A word to the wise\n",
    "\n",
    "### Workshop format\n",
    "\n",
    "The workshop makes use of the [Jupyter notebook technology](https://jupyter.org/).\n",
    "Seeing this page probably means the setup has been successful.\n",
    "\n",
    "When you want to evaluate a code snippet, focus on it, and click the Run button.\n",
    "\n",
    "### Workshop goal\n",
    "\n",
    "The goal of this workshop is to get you fast into reading and writing Clojure code.\n",
    "It doesn't aim to be exhaustive.\n",
    "If you want to go deeper the Clojure path, those are a few resources that could be recommended:\n",
    "\n",
    "* [My collection of Clojure posts](https://blog.frankel.ch/focus/learning-clojure/)\n",
    "* [How to write a Clojure application: a complete tutorial](https://www.exoscale.com/syslog/clojure-application-tutorial/)\n",
    "* [Clojure Design Patterns](http://mishadoff.com/blog/clojure-design-patterns/)\n",
    "\n",
    "\n",
    "## A blazing quick introduction\n",
    "\n",
    "> Clojure is a dynamic, general-purpose programming language, combining the approachability and interactive development of a scripting language with an efficient and robust infrastructure for multithreaded programming. Clojure is a compiled language, yet remains completely dynamic – every feature supported by Clojure is supported at runtime. Clojure provides easy access to the Java frameworks, with optional type hints and type inference, to ensure that calls to Java can avoid reflection.\n",
    ">\n",
    "> Clojure is a dialect of Lisp, and shares with Lisp the code-as-data philosophy and a powerful macro system. Clojure is predominantly a functional programming language, and features a rich set of immutable, persistent data structures. When mutable state is needed, Clojure offers a software transactional memory system and reactive Agent system that ensure clean, correct, multithreaded designs.\n",
    "\n",
    "<u>Source</u>: https://clojure.org/\n",
    "\n",
    "Key facts:\n",
    "\n",
    "* Clojure code can compile to JVM bytecode, .Net CLR and transpile to JavaScript - ClojureScript\n",
    "* Clojure part of the LISP family of languages, making heavy usage of parens\n",
    "* It's a dynamically-typed language\n",
    "\n",
    "## Straight into the pit\n",
    "\n",
    "In most widespread languages (Java, JavaScript, .Net, etc.), this is how an addition would look like:\n",
    "\n",
    "    1 + 2;\n",
    "\n",
    "This is how it translates in Clojure:"
   ]
  },
  {
   "cell_type": "code",
   "execution_count": null,
   "metadata": {},
   "outputs": [],
   "source": [
    "(+ 1 2)"
   ]
  },
  {
   "cell_type": "markdown",
   "metadata": {},
   "source": [
    "Parens are a big hint that Clojure is a LISP dialect.\n",
    "There are very few keywords in Clojure.\n",
    "\n",
    "To check the result of evaluating the expression, set the focus on the code snippet, and click on the Run button.\n",
    "\n",
    "It's your turn:\n",
    "in the cell below, write the expression of the product of 2 by 2.\n",
    "Check the result is as expected."
   ]
  },
  {
   "cell_type": "code",
   "execution_count": null,
   "metadata": {},
   "outputs": [],
   "source": [
    "()"
   ]
  },
  {
   "cell_type": "markdown",
   "metadata": {},
   "source": [
    "Let's add more arguments to the function:"
   ]
  },
  {
   "cell_type": "code",
   "execution_count": null,
   "metadata": {},
   "outputs": [],
   "source": [
    "(+ 1 2 3 4)"
   ]
  },
  {
   "cell_type": "markdown",
   "metadata": {},
   "source": [
    "Check the result of the execution of the above expression.\n",
    "\n",
    "Clojure evaluates the first element as the function to execute, all others elements are the function's arguments.\n",
    "Try to guess the result of the following expressions:"
   ]
  },
  {
   "cell_type": "code",
   "execution_count": null,
   "metadata": {},
   "outputs": [],
   "source": [
    "(- 1 2 3)"
   ]
  },
  {
   "cell_type": "markdown",
   "metadata": {},
   "source": [
    "Obviously, the expression is evaluated from left to right.\n",
    "\n",
    "* First: 1 - 2 = -1\n",
    "* Second: -1 - 3 = -4\n",
    "\n",
    "In other languages, parens are used to change the order of evaluation:\n",
    "\n",
    "    1 - (2 + 3)\n",
    "\n",
    "Likewise, in Clojure parens are evaluated in order, starting with the most nested one first:"
   ]
  },
  {
   "cell_type": "code",
   "execution_count": null,
   "metadata": {},
   "outputs": [],
   "source": [
    "(+ 1 (* (- 6 2) 3))"
   ]
  },
  {
   "cell_type": "markdown",
   "metadata": {},
   "source": [
    "Expressions are evalauted in order:\n",
    "\n",
    "1. `(- 6 2)` => 4\n",
    "2. `(* 4 3)` => 12\n",
    "3. `(+ 1 12)` => 13\n",
    "\n",
    "Refactor `(- 1 2 3)` by using nested expressions - while keeping the same result."
   ]
  },
  {
   "cell_type": "code",
   "execution_count": null,
   "metadata": {},
   "outputs": [],
   "source": [
    "()"
   ]
  },
  {
   "cell_type": "markdown",
   "metadata": {},
   "source": [
    "An important note to finish this section:\n",
    "**in Clojure, every expression evaluates to a result.**\n",
    "\n",
    "## Variables\n",
    "\n",
    "In Clojure, it's possible to define a variable with the `def` keyword.\n",
    "Let's do it:"
   ]
  },
  {
   "cell_type": "code",
   "execution_count": null,
   "metadata": {},
   "outputs": [],
   "source": [
    "(def x 3)"
   ]
  },
  {
   "cell_type": "markdown",
   "metadata": {},
   "source": [
    "Now, create a variable `y` with value `2`."
   ]
  },
  {
   "cell_type": "code",
   "execution_count": null,
   "metadata": {},
   "outputs": [],
   "source": [
    "(def y 2)"
   ]
  },
  {
   "cell_type": "markdown",
   "metadata": {},
   "source": [
    "Guess the result of the evaluation of the following expression."
   ]
  },
  {
   "cell_type": "code",
   "execution_count": null,
   "metadata": {},
   "outputs": [],
   "source": [
    "(+ x y)"
   ]
  },
  {
   "cell_type": "code",
   "execution_count": null,
   "metadata": {},
   "outputs": [],
   "source": []
  },
  {
   "cell_type": "markdown",
   "metadata": {},
   "source": [
    "Variables defined with `def` are **global**.\n",
    "We will see later how to create variable with a smaller scope.\n",
    "\n",
    "## Types\n",
    "\n",
    "Clojure is a _dynamically_-typed language:\n",
    "the value contained by a variable can change over time, and nothing prevents such values to be of different types _e.g._ `Long` to `String`.\n",
    "\n",
    "Let's redefine the `x` variable defined above:"
   ]
  },
  {
   "cell_type": "code",
   "execution_count": null,
   "metadata": {},
   "outputs": [],
   "source": [
    "(def x \"Hello\")"
   ]
  },
  {
   "cell_type": "markdown",
   "metadata": {},
   "source": [
    "Now, evaluate `x`:"
   ]
  },
  {
   "cell_type": "code",
   "execution_count": null,
   "metadata": {},
   "outputs": [],
   "source": [
    "x"
   ]
  },
  {
   "cell_type": "markdown",
   "metadata": {},
   "source": [
    "Just to be sure, evaluate `y`:"
   ]
  },
  {
   "cell_type": "code",
   "execution_count": null,
   "metadata": {},
   "outputs": [],
   "source": []
  },
  {
   "cell_type": "markdown",
   "metadata": {},
   "source": [
    "Note that there are still types _e.g._:\n",
    "\n",
    "* `java.lang.Long`\n",
    "* `java.lang.Double`\n",
    "* `java.lang.String`\n",
    "* etc.\n",
    "\n",
    "Clojure also provides specific types, they will be mentioned when they are used in the rest of the document."
   ]
  },
  {
   "cell_type": "markdown",
   "metadata": {},
   "source": [
    "## Functions\n",
    "\n",
    "Functions are defined with the `fn` keyword.\n",
    "Note that this is actually the second keyword in Clojure's syntax we have seen so far.\n",
    "\n",
    "Here's a function definition:"
   ]
  },
  {
   "cell_type": "code",
   "execution_count": null,
   "metadata": {},
   "outputs": [],
   "source": [
    "(fn [] (print \"Hi!\"))"
   ]
  },
  {
   "cell_type": "markdown",
   "metadata": {},
   "source": [
    "This is actually pretty useless, since this describes an _anonymous_ function.\n",
    "To call the function, it must be evaluated.\n",
    "\n",
    "To evaluate the anonymous function, just wrap it in parens:"
   ]
  },
  {
   "cell_type": "code",
   "execution_count": null,
   "metadata": {},
   "outputs": [],
   "source": [
    "((fn [] (print \"Hi!\")))"
   ]
  },
  {
   "cell_type": "markdown",
   "metadata": {},
   "source": [
    "That is still not very useful...\n",
    "In most cases, functions have a name, so they can be referenced easily, and hopefully reused.\n",
    "\n",
    "The `(fn)` syntax defines a higher-order function, that can be passed around.\n",
    "Giving the function a name is akin to assigning this higher-order anonymous function to a variable.\n",
    "\n",
    "Let's combine the two keywords we have seen so far:"
   ]
  },
  {
   "cell_type": "code",
   "execution_count": null,
   "metadata": {},
   "outputs": [],
   "source": [
    "(def hi\n",
    "    (fn [] (print \"Hi!\")))"
   ]
  },
  {
   "cell_type": "markdown",
   "metadata": {},
   "source": [
    "Now, try to call this newly defined function:"
   ]
  },
  {
   "cell_type": "code",
   "execution_count": null,
   "metadata": {},
   "outputs": [],
   "source": [
    "()"
   ]
  },
  {
   "cell_type": "markdown",
   "metadata": {},
   "source": [
    "While perfectly working, this way of declaring functions feels a bit awkward.\n",
    "Clojure allows an alternate syntax, `defn`:"
   ]
  },
  {
   "cell_type": "code",
   "execution_count": null,
   "metadata": {},
   "outputs": [],
   "source": [
    "(defn hi\n",
    "    []\n",
    "    (print \"Hi!\"))"
   ]
  },
  {
   "cell_type": "markdown",
   "metadata": {},
   "source": [
    "Evaluate the function and check the result is the same as above:"
   ]
  },
  {
   "cell_type": "code",
   "execution_count": null,
   "metadata": {},
   "outputs": [],
   "source": [
    "()"
   ]
  },
  {
   "cell_type": "markdown",
   "metadata": {},
   "source": [
    "In Clojure, functions' and variables' names follow kebab-case:\n",
    "words are in lower cases, and dashes are used to break between them.\n",
    "\n",
    "There are 2 additional conventions:\n",
    "\n",
    "1. If the function returns a `boolean`, it ends with `?`\n",
    "2. If it has _side-effects_, it ends with `!`\n",
    "\n",
    "This is constantly applied in the standard library.\n",
    "It's advised you follow the same conventions in your own code.\n",
    "\n",
    "### Function parameters\n",
    "\n",
    "You might have noticed the square brackets (`[]`) in the function definition above.\n",
    "This is the way Clojure describes parameters.\n",
    "Empty brackets means the function doesn't accept any parameter.\n",
    "\n",
    "Try to guess what is the output of the following code:"
   ]
  },
  {
   "cell_type": "code",
   "execution_count": null,
   "metadata": {},
   "outputs": [],
   "source": [
    "(defn hi\n",
    "    [who]\n",
    "    (print (str \"Hi \" who \"!\")))\n",
    "\n",
    "(hi \"John\")"
   ]
  },
  {
   "cell_type": "markdown",
   "metadata": {},
   "source": [
    "Now, update the `(sum)` function below to accept two number arguments and return their sum.\n",
    "Assume that arguments are of the correct type."
   ]
  },
  {
   "cell_type": "code",
   "execution_count": null,
   "metadata": {},
   "outputs": [],
   "source": [
    "(defn sum\n",
    "    [] 0)\n",
    "\n",
    "(sum 1 2)"
   ]
  },
  {
   "cell_type": "code",
   "execution_count": null,
   "metadata": {},
   "outputs": [],
   "source": [
    "(sum -1 2)"
   ]
  },
  {
   "cell_type": "code",
   "execution_count": null,
   "metadata": {},
   "outputs": [],
   "source": [
    "(sum -1 -2)"
   ]
  },
  {
   "cell_type": "markdown",
   "metadata": {},
   "source": [
    "### Function arity\n",
    "\n",
    "The arity of a function is a number of arguments a function allows:\n",
    "0-arity means no arguments, 1-arity means a single argument, etc.\n",
    "\n",
    "It's not uncommon to have a single function with different arities.\n",
    "In that case, the body of the function is defined in brackets separately for each arity _e.g._:"
   ]
  },
  {
   "cell_type": "code",
   "execution_count": null,
   "metadata": {},
   "outputs": [],
   "source": [
    "(defn hi\n",
    "    ([] (\"Hi world!\"))\n",
    "    ([who] (str \"Hi \" who \"!\"))\n",
    "    ([who what] (str what \" \" who \"!\")))\n",
    "\n",
    "(hi)"
   ]
  },
  {
   "cell_type": "code",
   "execution_count": null,
   "metadata": {},
   "outputs": [],
   "source": [
    "(hi \"John\")"
   ]
  },
  {
   "cell_type": "code",
   "execution_count": null,
   "metadata": {},
   "outputs": [],
   "source": [
    "(hi \"Sir John\" \"Greetings\")"
   ]
  },
  {
   "cell_type": "markdown",
   "metadata": {},
   "source": [
    "Of course, nothing prevents a function from calling itself with a different arity - or even the same if you love recursion.\n",
    "Rewrite the `(hi)` function to apply the <abbr title=\"Don't Repeat Yourself\">DRY</abbr> principle."
   ]
  },
  {
   "cell_type": "code",
   "execution_count": null,
   "metadata": {},
   "outputs": [],
   "source": [
    "(defn hi\n",
    "    ([] )\n",
    "    ([who] )\n",
    "    ([who what] ))"
   ]
  },
  {
   "cell_type": "markdown",
   "metadata": {},
   "source": [
    "Update the above `(sum)` function to return:\n",
    "\n",
    "* `0` if no argument is passed\n",
    "* If a single argument is passed, its value\n",
    "* If two arguments are passed, their sum - that should be the same behavior as above"
   ]
  },
  {
   "cell_type": "code",
   "execution_count": null,
   "metadata": {
    "scrolled": true
   },
   "outputs": [],
   "source": [
    "(sum)"
   ]
  },
  {
   "cell_type": "code",
   "execution_count": null,
   "metadata": {},
   "outputs": [],
   "source": [
    "(sum 1)"
   ]
  },
  {
   "cell_type": "code",
   "execution_count": null,
   "metadata": {},
   "outputs": [],
   "source": [
    "(sum 1 2)"
   ]
  },
  {
   "cell_type": "markdown",
   "metadata": {},
   "source": [
    "Sometimes, the number of arguments is unbounded.\n",
    "In Java, this is refered to as `varargs`.\n",
    "Clojure also allows unbounded number of arguments.\n",
    "\n",
    "Simplify the `(sum)` function to allow an unbounded number of arguments."
   ]
  },
  {
   "cell_type": "code",
   "execution_count": null,
   "metadata": {},
   "outputs": [],
   "source": [
    "(defn sum [])"
   ]
  },
  {
   "cell_type": "markdown",
   "metadata": {},
   "source": [
    "### \"Local\" variables\n",
    "\n",
    "We have already mentioned that variables can be defined through `(def)`:\n",
    "that makes them global variables.\n",
    "\n",
    "However, it's possible to define local variables, whose scope is limited to a block.\n",
    "That block is defined by `(let)`.\n",
    "The syntax is of the form `(let [param1 \"value1\" param2 \"value2\" paramn \"valuen\"] ())`."
   ]
  },
  {
   "cell_type": "code",
   "execution_count": null,
   "metadata": {},
   "outputs": [],
   "source": [
    "(let [a-param \"a-value\"\n",
    "      other-param \"other-value\"]\n",
    "    (str a-param \" \" other-param))"
   ]
  },
  {
   "cell_type": "markdown",
   "metadata": {},
   "source": [
    "Nothing stops values from being computation themselves.\n",
    "This is pretty powerful when associated with a function definition, as it lets you define temporary variables:"
   ]
  },
  {
   "cell_type": "code",
   "execution_count": null,
   "metadata": {},
   "outputs": [],
   "source": [
    "(defn add-2-substract-2 [a b c d]\n",
    "    (let [x (+ a b)\n",
    "          y (+ c d)]\n",
    "        (- x y)))\n",
    "\n",
    "(add-2-substract-2 4 9 3 5)"
   ]
  },
  {
   "cell_type": "markdown",
   "metadata": {},
   "source": [
    "### Functions as parameters/return values\n",
    "\n",
    "As already mentioned above, functions are first-class citizens in Clojure.\n",
    "They can be accepted as function parameters, and returned as returned values.\n",
    "\n",
    "Let's create a function that returns a function:"
   ]
  },
  {
   "cell_type": "code",
   "execution_count": null,
   "metadata": {},
   "outputs": [],
   "source": [
    "(defn hi\n",
    "    [who] (fn [] (str \"Hello \" who \"!\")))\n",
    "\n",
    "(hi \"John\")"
   ]
  },
  {
   "cell_type": "markdown",
   "metadata": {},
   "source": [
    "The return type is not a `String` anymore, but a function.\n",
    "To call it, we can do as in our earliest attempt:\n",
    "put brackets around it."
   ]
  },
  {
   "cell_type": "code",
   "execution_count": null,
   "metadata": {},
   "outputs": [],
   "source": [
    "((hi \"John\"))"
   ]
  },
  {
   "cell_type": "markdown",
   "metadata": {},
   "source": [
    "However, this trick doesn't work anymore when the argument is passed at a later, which is the main benefit of this approach:"
   ]
  },
  {
   "cell_type": "code",
   "execution_count": null,
   "metadata": {},
   "outputs": [],
   "source": [
    "(defn hi\n",
    "    [] (fn [who] (str \"Hello \" who \"!\")))\n",
    "\n",
    "(hi)"
   ]
  },
  {
   "cell_type": "markdown",
   "metadata": {},
   "source": [
    "To achieve that, there's a dedicated macro named `(apply)`.\n",
    "Its first argument is the function to call, the second one a _collection_ of the arguments to pass to the function.\n",
    "We will talk later about collections, for now, it's enough to know a collection can be created by putting brackets around any number of arguments."
   ]
  },
  {
   "cell_type": "code",
   "execution_count": null,
   "metadata": {},
   "outputs": [],
   "source": [
    "(apply (hi) [\"John\"])"
   ]
  },
  {
   "cell_type": "markdown",
   "metadata": {},
   "source": [
    "Now it's your turn.\n",
    "Create an `(op)` function that takes a single argument - an operator function.\n",
    "It should return a 2-arity function, that combines the number arguments using the function."
   ]
  },
  {
   "cell_type": "code",
   "execution_count": null,
   "metadata": {},
   "outputs": [],
   "source": [
    "(defn op [f])\n",
    "\n",
    "((op +) 3 4)"
   ]
  },
  {
   "cell_type": "code",
   "execution_count": null,
   "metadata": {},
   "outputs": [],
   "source": [
    "((op str) \"Hello \" \"John!\")"
   ]
  },
  {
   "cell_type": "markdown",
   "metadata": {},
   "source": [
    "## Control flow\n",
    "\n",
    "What would be a language without some degree of control flow?\n",
    "\n",
    "`(if)` is very close to the _if_ found in other languages:\n",
    "it allows to check whether an expression is `true` or `false`.\n",
    "It works by evaluating an expression parameter, and returning the second parameter."
   ]
  },
  {
   "cell_type": "code",
   "execution_count": null,
   "metadata": {},
   "outputs": [],
   "source": [
    "(if true \"This is true\")"
   ]
  },
  {
   "cell_type": "markdown",
   "metadata": {},
   "source": [
    "If there's another parameter, it serves as an _else_ expression."
   ]
  },
  {
   "cell_type": "code",
   "execution_count": null,
   "metadata": {},
   "outputs": [],
   "source": [
    "(if false\n",
    "    \"This is true\"\n",
    "    \"This is false\")"
   ]
  },
  {
   "cell_type": "markdown",
   "metadata": {},
   "source": [
    "Note than expression is considered _falsy_ if it evaluates to `false` **or** `nil`; all other values are considered _truthy_."
   ]
  },
  {
   "cell_type": "code",
   "execution_count": 1,
   "metadata": {},
   "outputs": [
    {
     "data": {
      "text/plain": [
       "\"this is false\""
      ]
     },
     "execution_count": 1,
     "metadata": {},
     "output_type": "execute_result"
    }
   ],
   "source": [
    "(if \"this is true\" \"this is false\")"
   ]
  },
  {
   "cell_type": "markdown",
   "metadata": {},
   "source": [
    "When there's no _else_ branch, it's considered to be a good practice to use `(when)` instead of `(if)`.\n",
    "`(when)` can not have an _else_ branch, so the intent is clearer."
   ]
  },
  {
   "cell_type": "code",
   "execution_count": 4,
   "metadata": {},
   "outputs": [
    {
     "data": {
      "text/plain": [
       "\"this is false\""
      ]
     },
     "execution_count": 4,
     "metadata": {},
     "output_type": "execute_result"
    }
   ],
   "source": [
    "(when \"this is true\" \"this is false\")"
   ]
  },
  {
   "cell_type": "markdown",
   "metadata": {},
   "source": [
    "Another control flow expression, `(cond)` allows to evaluate expressions **sequentially** and returns at the first _truthy_ evaluation."
   ]
  },
  {
   "cell_type": "code",
   "execution_count": null,
   "metadata": {},
   "outputs": [],
   "source": [
    "(def x 5)\n",
    "(cond \n",
    "    (< x 1) \"Less than 1\"\n",
    "    (< x 2) \"Less than 2\"\n",
    "    (< x 4) \"Less than 4\"\n",
    "    (< x 6) \"Less than 6\"\n",
    "    (< x 8) \"Less than 8\")"
   ]
  },
  {
   "cell_type": "code",
   "execution_count": null,
   "metadata": {},
   "outputs": [],
   "source": [
    "(cond \n",
    "    (< x 8) \"Less than 8\"\n",
    "    (< x 6) \"Less than 6\"\n",
    "    (< x 4) \"Less than 4\"\n",
    "    (< x 2) \"Less than 2\"\n",
    "    (< x 1) \"Less than 1\")"
   ]
  },
  {
   "cell_type": "markdown",
   "metadata": {},
   "source": [
    "`(case)` is the equivalent of the widespread _switch/case_ found in other imperative languages.\n",
    "If checks for equality, and directly returns the associated expression."
   ]
  },
  {
   "cell_type": "code",
   "execution_count": null,
   "metadata": {},
   "outputs": [],
   "source": [
    "(case x\n",
    "    1 \"Is 1\"\n",
    "    2 \"Is 2\"\n",
    "    4 \"Is 4\"\n",
    "    5 \"Is 5\"\n",
    "    8 \"Is 8\")"
   ]
  },
  {
   "cell_type": "markdown",
   "metadata": {},
   "source": [
    "To set a default expression when no value matches, just add a trailing expression with no associated value."
   ]
  },
  {
   "cell_type": "code",
   "execution_count": null,
   "metadata": {},
   "outputs": [],
   "source": [
    "(case x\n",
    "    1 \"Is 1\"\n",
    "    2 \"Is 2\"\n",
    "    3 \"Is 3\"\n",
    "    4 \"Is 4\"\n",
    "    \"Is above 4\")"
   ]
  },
  {
   "cell_type": "markdown",
   "metadata": {},
   "source": [
    "Clojure has no _while/do-while_ found in imperative languages - it has `(for)` but it has different semantics (see below). As a Functional Programming language, Clojure handles loops with recursion.\n",
    "\n",
    "To achieve that, it provides two expressions: `(loop)` and `(recur)`:\n",
    "\n",
    "* `(loop)` defines the bindings using square brackets\n",
    "* `(recur)` calls `(loop)` with a different set of parameter(s)\n",
    "\n",
    "To count from 0 to 9, here's the syntax:"
   ]
  },
  {
   "cell_type": "code",
   "execution_count": 14,
   "metadata": {},
   "outputs": [
    {
     "name": "stdout",
     "output_type": "stream",
     "text": [
      "0\n",
      "1\n",
      "2\n",
      "3\n",
      "4\n",
      "5\n",
      "6\n",
      "7\n",
      "8\n",
      "9\n"
     ]
    }
   ],
   "source": [
    "(loop [x 0]\n",
    "    (println x)\n",
    "    (if (< x 9)\n",
    "        (recur (+ x 1))))"
   ]
  },
  {
   "cell_type": "markdown",
   "metadata": {},
   "source": [
    "Note that a similar function is available in the core library - it returns a [collection](#Collections):"
   ]
  },
  {
   "cell_type": "code",
   "execution_count": 15,
   "metadata": {},
   "outputs": [
    {
     "data": {
      "text/plain": [
       "(0 1 2 3 4 5 6 7 8 9)"
      ]
     },
     "execution_count": 15,
     "metadata": {},
     "output_type": "execute_result"
    }
   ],
   "source": [
    "(range 10)"
   ]
  },
  {
   "cell_type": "markdown",
   "metadata": {},
   "source": [
    "The `(for)` function is actually a _for-comprehension_ that creates cartesian products.\n",
    "Here's an example:"
   ]
  },
  {
   "cell_type": "code",
   "execution_count": 20,
   "metadata": {},
   "outputs": [
    {
     "data": {
      "text/plain": [
       "(1 2 3 2 4 6 3 6 9)"
      ]
     },
     "execution_count": 20,
     "metadata": {},
     "output_type": "execute_result"
    }
   ],
   "source": [
    "(for [x (range 1 4)\n",
    "      y (range 1 4)]\n",
    "    (* x y))"
   ]
  },
  {
   "cell_type": "markdown",
   "metadata": {},
   "source": [
    "## Macros\n",
    "\n",
    "A note about _macros_ - feel free to skip this section.\n",
    "\n",
    "`defn` is not a keyword, nor is `let` a function.\n",
    "Both are _macros_.\n",
    "In fact, Clojure defines only a few keywords - remember `def` and `fn`?\n",
    "The rest are either macros - `defn` and `let`, or functions - `+`, `str` and `print`.\n",
    "\n",
    "As in C/C++, macros allow to change the code that will be compiled.\n",
    "That's easy to achieve because Clojure, as a LISP dialect, is homoiconic.\n",
    "\n",
    "> A language is homoiconic if a program written in it can be manipulated as data using the language, and thus the program's internal representation can be inferred just by reading the program itself.\n",
    "In homoiconic languages, all code can be accessed and transformed as data, using the same representation.\n",
    "\n",
    "<u>Source</u>: https://en.wikipedia.org/wiki/Homoiconicity\n",
    "\n",
    "Clojure provides a way to get the final form of a macro, via the `macroexpand` macro.\n",
    "Check the final form of our defined function:"
   ]
  },
  {
   "cell_type": "code",
   "execution_count": null,
   "metadata": {},
   "outputs": [],
   "source": [
    "(macroexpand '(defn hi [] (print \"Hi!\")))"
   ]
  },
  {
   "cell_type": "markdown",
   "metadata": {},
   "source": [
    "It should look pretty similar to the way we defined it ourselves above.\n",
    "\n",
    "If the output looks like `#'user/hi`, then verify you didn't miss the single quote `(macroexpand '(mymacro))`.\n",
    "\n",
    "With macros, one can not only provide new constructs, but also change how Clojure works.\n",
    "Try to guess what the following snippet evaluates to:"
   ]
  },
  {
   "cell_type": "markdown",
   "metadata": {},
   "source": [
    "## Collections\n",
    "\n",
    "Just as most (every?) programming language provides data structure to handle collections of elements, do does Clojure.\n",
    "\n",
    "The main collection types are _vector_, _list_, _set_ & _map_.\n",
    "There are similarities in the way to define them:\n",
    "\n",
    "* It starts with a symbol\n",
    "* Elements are separated by spaces.\n",
    "Though it's possible to use commas, it's not mandatory, and it's not idiomatic Clojure.\n",
    "\n",
    "### Vector\n",
    "\n",
    "In Clojure, a vector is a collection that is sequential and allows indexed access.\n",
    "\n",
    "A vector is defined using square brackets."
   ]
  },
  {
   "cell_type": "code",
   "execution_count": null,
   "metadata": {},
   "outputs": [],
   "source": [
    "(def myvector [1, 2, 3])"
   ]
  },
  {
   "cell_type": "markdown",
   "metadata": {},
   "source": [
    "Collections share some common functionalities.\n",
    "Let's see some of the them.\n",
    "\n",
    "The `(count)` function returns the number of items in a collection.\n",
    "Display the number of elements in the `myvector` variable that has been defined above."
   ]
  },
  {
   "cell_type": "code",
   "execution_count": null,
   "metadata": {},
   "outputs": [],
   "source": [
    "()"
   ]
  },
  {
   "cell_type": "markdown",
   "metadata": {},
   "source": [
    "Another function available for collections is `(peek)`.\n",
    "**For vectors, peek return the last element**."
   ]
  },
  {
   "cell_type": "code",
   "execution_count": null,
   "metadata": {},
   "outputs": [],
   "source": [
    "(peek myvector)"
   ]
  },
  {
   "cell_type": "markdown",
   "metadata": {},
   "source": [
    "To add an element to a collection, the function is `(conj)`.\n",
    "Two things to note:\n",
    "\n",
    "1. For vectors, elements are added at the end of the collection\n",
    "2. Clojures collections are immutable.\n",
    "Adding an element effectively returns a new collection with the new element added.\n",
    "\n",
    "Using the vector defined above, check that those statements are true."
   ]
  },
  {
   "cell_type": "code",
   "execution_count": null,
   "metadata": {},
   "outputs": [],
   "source": [
    "()"
   ]
  },
  {
   "cell_type": "markdown",
   "metadata": {},
   "source": [
    "The function `(pop)` returns a new collection that is the same as the initial collection, minus one element. \n",
    "\n",
    "For vectors, check which element is removed, the first or the last?"
   ]
  },
  {
   "cell_type": "code",
   "execution_count": null,
   "metadata": {},
   "outputs": [],
   "source": [
    "(pop myvector)"
   ]
  },
  {
   "cell_type": "markdown",
   "metadata": {},
   "source": [
    "Now, let's see a specific feature of vector.\n",
    "To get the element at index `n` in a vector, the syntax is `(myvector myindex)`."
   ]
  },
  {
   "cell_type": "code",
   "execution_count": null,
   "metadata": {
    "scrolled": true
   },
   "outputs": [],
   "source": [
    "(myvector 2)"
   ]
  },
  {
   "cell_type": "markdown",
   "metadata": {},
   "source": [
    "Now, try accessing the index which is higher than the number of elements.\n",
    "What is the behavior?"
   ]
  },
  {
   "cell_type": "code",
   "execution_count": null,
   "metadata": {},
   "outputs": [],
   "source": [
    "(myvector 4)"
   ]
  },
  {
   "cell_type": "markdown",
   "metadata": {},
   "source": [
    "Though Clojure is a functional language, it's also quite pragmatic.\n",
    "\n",
    "### List\n",
    "\n",
    "In Clojure, a list is a sequential collection.\n",
    "Its implementation is that of a linked list.\n",
    "\n",
    "A list is declared using parens.\n",
    "However, because parens do evaluate an expression, the opening paren should be escaped with the `'` (simple quote) character."
   ]
  },
  {
   "cell_type": "code",
   "execution_count": null,
   "metadata": {},
   "outputs": [],
   "source": [
    "(def mylist '(1 2 3))"
   ]
  },
  {
   "cell_type": "markdown",
   "metadata": {},
   "source": [
    "Because list is a collection, it's possible to call `(peek)`, `(pop)` and `(conj)` on it.\n",
    "As opposite to vector, both work on the first element of the list.\n",
    "\n",
    "Verify the last statement."
   ]
  },
  {
   "cell_type": "code",
   "execution_count": null,
   "metadata": {},
   "outputs": [],
   "source": [
    "()"
   ]
  },
  {
   "cell_type": "markdown",
   "metadata": {},
   "source": [
    "### Set\n",
    "\n",
    "A set is a collection of items that have no duplicates.\n",
    "\n",
    "To define a set, the syntax is the following:"
   ]
  },
  {
   "cell_type": "code",
   "execution_count": null,
   "metadata": {},
   "outputs": [],
   "source": [
    "(def myset #{1 2 3 4})"
   ]
  },
  {
   "cell_type": "markdown",
   "metadata": {},
   "source": [
    "Try to create a set with duplicates.\n",
    "What happens?"
   ]
  },
  {
   "cell_type": "code",
   "execution_count": null,
   "metadata": {},
   "outputs": [],
   "source": [
    "()"
   ]
  },
  {
   "cell_type": "markdown",
   "metadata": {},
   "source": [
    "To get a collection with a guarantee of having no duplicates, use the `(distinct)` function."
   ]
  },
  {
   "cell_type": "code",
   "execution_count": null,
   "metadata": {},
   "outputs": [],
   "source": [
    "(distinct '(1 2 3 4 5 1 2 3 4 5))"
   ]
  },
  {
   "cell_type": "markdown",
   "metadata": {},
   "source": [
    "The function `(into)` is used to add elements of a collection into another collection.\n",
    "Create a `(to-set)` function that accepts a collection as an argument, and return a set containing all elements of the original collection."
   ]
  },
  {
   "cell_type": "code",
   "execution_count": null,
   "metadata": {},
   "outputs": [],
   "source": [
    "()"
   ]
  },
  {
   "cell_type": "markdown",
   "metadata": {},
   "source": [
    "### Map\n",
    "\n",
    "A map represents an associative array - also called a hash, or dictionary.\n",
    "\n",
    "A map is created using curly braces, and alternating key & value."
   ]
  },
  {
   "cell_type": "code",
   "execution_count": null,
   "metadata": {},
   "outputs": [],
   "source": [
    "(def mymap {\"A\" \"Alice\" \"B\" \"Bob\" \"C\" \"Charlie\"})"
   ]
  },
  {
   "cell_type": "markdown",
   "metadata": {},
   "source": [
    "To get the value of a key, use the function `(get)`."
   ]
  },
  {
   "cell_type": "code",
   "execution_count": null,
   "metadata": {},
   "outputs": [],
   "source": [
    "(get mymap \"A\")"
   ]
  },
  {
   "cell_type": "markdown",
   "metadata": {},
   "source": [
    "What happens if the key doesn't exist?"
   ]
  },
  {
   "cell_type": "code",
   "execution_count": null,
   "metadata": {},
   "outputs": [],
   "source": [
    "(get mymap \"D\")"
   ]
  },
  {
   "cell_type": "markdown",
   "metadata": {},
   "source": [
    "To handle the case where the key doesn't exist, the `(get)` function accepts a second argument, the default value."
   ]
  },
  {
   "cell_type": "code",
   "execution_count": null,
   "metadata": {},
   "outputs": [],
   "source": [
    "(get mymap \"D\" \"Dave\")"
   ]
  },
  {
   "cell_type": "markdown",
   "metadata": {},
   "source": [
    "Whether the key exists or not, a more idiomatic Clojure shortcut exists.\n",
    "Just remove the explicit `get`:"
   ]
  },
  {
   "cell_type": "code",
   "execution_count": null,
   "metadata": {},
   "outputs": [],
   "source": [
    "(mymap \"A\")"
   ]
  },
  {
   "cell_type": "markdown",
   "metadata": {},
   "source": [
    "`(assoc)` and `(dissoc)` respectively add and remove a key-value pair from a map.\n",
    "\n",
    "Check whether a map is immutable."
   ]
  },
  {
   "cell_type": "code",
   "execution_count": null,
   "metadata": {},
   "outputs": [],
   "source": [
    "()"
   ]
  },
  {
   "cell_type": "markdown",
   "metadata": {},
   "source": [
    "Now is the time to mention _keywords_.\n",
    "\n",
    "// TODO insert definition\n",
    "\n",
    "Idiomatic Clojure makes use of keywords as keys in maps:"
   ]
  },
  {
   "cell_type": "code",
   "execution_count": null,
   "metadata": {},
   "outputs": [],
   "source": [
    "(def anothermap {:a \"A\" :b \"B\"})"
   ]
  },
  {
   "cell_type": "markdown",
   "metadata": {},
   "source": [
    "Since there are no objects in Clojure, maps are used as replacements.\n",
    "It's very widespread to find this kind of code:"
   ]
  },
  {
   "cell_type": "code",
   "execution_count": null,
   "metadata": {},
   "outputs": [],
   "source": [
    "(def alice {:firstName \"Alice\" :lastName \"Doe\"})"
   ]
  },
  {
   "cell_type": "markdown",
   "metadata": {},
   "source": [
    "### Standard functions\n",
    "\n",
    "Clojure offers functions that are expected in FP languages:\n",
    "\n",
    "* `(map)` - not to be confused with the `map` collection type - transform elements from one type to another\n",
    "* `(filter)` filter out elements from the collection\n",
    "* `(sort-by)` orders elements\n",
    "\n",
    "Note there are a lot more functions available, this is just a sample to get started.\n",
    "\n",
    "Also, remember that since Clojure collections are immutable, **all those functions return a new collection**.\n",
    "\n",
    "Those functions follow the same pattern:\n",
    "_(actual_function function_to_apply collection)_."
   ]
  },
  {
   "cell_type": "markdown",
   "metadata": {},
   "source": [
    "Here's a collection of people:"
   ]
  },
  {
   "cell_type": "code",
   "execution_count": null,
   "metadata": {},
   "outputs": [],
   "source": [
    "(def people [{:firstName \"Alice\"   :lastName \"Doe\"}\n",
    "             {:firstName \"Bob\"     :lastName \"Doe\"}\n",
    "             {:firstName \"Charlie\" :lastName \"Chocolatey\"}\n",
    "             {:firstName \"Delta\"   :lastName \"Doe\"}])"
   ]
  },
  {
   "cell_type": "markdown",
   "metadata": {},
   "source": [
    "Let's extract the first names of the people:"
   ]
  },
  {
   "cell_type": "code",
   "execution_count": null,
   "metadata": {},
   "outputs": [],
   "source": [
    "(defn extract-first-name [p] (p :firstName))\n",
    "\n",
    "(map extract-first-name people)"
   ]
  },
  {
   "cell_type": "markdown",
   "metadata": {},
   "source": [
    "Because the function is quite simple, it can be turned into an anonymous function.\n",
    "To pass the function as an anonymous function, wrap the code in parens and prefix it with `#`.\n",
    "Inside the function, the parameter is referenced with the `%` symbol.\n",
    "If multiple parameters are passed, they can be referenced with `%1`, `%2`, `%3`, etc."
   ]
  },
  {
   "cell_type": "code",
   "execution_count": null,
   "metadata": {},
   "outputs": [],
   "source": [
    "(map #(% :firstName) people)"
   ]
  },
  {
   "cell_type": "markdown",
   "metadata": {},
   "source": [
    "Let's play a bit with this collection.\n",
    "\n",
    "What collection type is it?\n",
    "Make sure your answer is correct by trying out the following functions: `(vector?)`, `(list?)`, `(set?)` and `(map?)`.\n",
    "Notice that though types are not explicit, they still are present under the hood."
   ]
  },
  {
   "cell_type": "code",
   "execution_count": null,
   "metadata": {},
   "outputs": [],
   "source": [
    "()"
   ]
  },
  {
   "cell_type": "markdown",
   "metadata": {},
   "source": [
    "Given a map that has similar structure as `people`, return a new map with only people whose last name is \"Doe\", **and** add a new entry for each element with key `:age` and any set value _e.g._ 20."
   ]
  },
  {
   "cell_type": "code",
   "execution_count": null,
   "metadata": {},
   "outputs": [],
   "source": [
    "()"
   ]
  },
  {
   "cell_type": "markdown",
   "metadata": {},
   "source": [
    "### Threading macro\n",
    "\n",
    "The syntax above is hardly readable even for seasoned Clojurists, and this will get exponentially harder with the number of operations increasing.\n",
    "Fortunately, Clojure offers a macro for that, called the \"threading macro\" (or arrow macro) `(->>)`.\n",
    "\n",
    "It allows to write the sequence of operations in a sequential way, by replacing the **last** parameter of a function by the result of the previous line.\n",
    "\n",
    "The two next statements are equivalent:"
   ]
  },
  {
   "cell_type": "code",
   "execution_count": null,
   "metadata": {},
   "outputs": [],
   "source": [
    "(map #(* % 2) (map #(+ % 1) [1 2 3]))"
   ]
  },
  {
   "cell_type": "code",
   "execution_count": null,
   "metadata": {},
   "outputs": [],
   "source": [
    "(->> [1 2 3]\n",
    "     (map #(+ % 1))\n",
    "     (map #(* % 2)))"
   ]
  },
  {
   "cell_type": "markdown",
   "metadata": {},
   "source": [
    "Use the threading macro to refactor the operations done on the `people` collection (only those with last name is \"Doe\", and new entry added)."
   ]
  },
  {
   "cell_type": "code",
   "execution_count": null,
   "metadata": {},
   "outputs": [],
   "source": [
    "()"
   ]
  },
  {
   "cell_type": "markdown",
   "metadata": {},
   "source": [
    "For cases when the first parameter needs to be replaced, then use the `->` macro instead."
   ]
  },
  {
   "cell_type": "markdown",
   "metadata": {},
   "source": [
    "* Spec: contract-based development\n",
    "* Atom\n",
    "* Java interop"
   ]
  }
 ],
 "metadata": {
  "kernelspec": {
   "display_name": "Clojure",
   "language": "clojure",
   "name": "clojure"
  },
  "language_info": {
   "file_extension": ".clj",
   "mimetype": "text/x-clojure",
   "name": "clojure",
   "version": "1.8.0"
  }
 },
 "nbformat": 4,
 "nbformat_minor": 2
}
