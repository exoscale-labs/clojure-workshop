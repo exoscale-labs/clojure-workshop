{
 "cells": [
  {
   "cell_type": "markdown",
   "metadata": {},
   "source": [
    "# Clojure workshop\n",
    "\n",
    "[Nicolas Fränkel](https://twitter.com/nicolas_frankel) @ [Exoscale](https://www.exoscale.com/)\n",
    "\n",
    "\n",
    "1. [A word to the wise](#A-word-to-the-wise)\n",
    "2. [A blazing quick introduction](#A-blazing-quick-introduction)\n",
    "3. [Straight into the pit](#Straight-into-the-pit)\n",
    "4. [Variables](#Variables)\n",
    "5. [Types](#Types)\n",
    "6. [Functions](#Functions)\n",
    "7. [Macros](#Macros)\n",
    "\n",
    "\n",
    "## A word to the wise\n",
    "\n",
    "### Workshop format\n",
    "\n",
    "The workshop makes use of the [Jupyter notebook technology](https://jupyter.org/).\n",
    "Seeing this page probably means the setup has been successful.\n",
    "\n",
    "When you want to evaluate a code snippet, focus on it, and click the Run button.\n",
    "\n",
    "### Workshop goal\n",
    "\n",
    "The goal of this workshop is to get you fast into reading and writing Clojure code.\n",
    "It doesn't aim to be exhaustive.\n",
    "If you want to go deeper the Clojure path, those are a few resources that could be recommended:\n",
    "\n",
    "* [My collection of Clojure posts](https://blog.frankel.ch/focus/learning-clojure/)\n",
    "* [Clojure for the Brave and True](https://www.braveclojure.com/)\n",
    "* [How to write a Clojure application: a complete tutorial](https://www.exoscale.com/syslog/clojure-application-tutorial/)\n",
    "\n",
    "\n",
    "## A blazing quick introduction\n",
    "\n",
    "> Clojure is a dynamic, general-purpose programming language, combining the approachability and interactive development of a scripting language with an efficient and robust infrastructure for multithreaded programming. Clojure is a compiled language, yet remains completely dynamic – every feature supported by Clojure is supported at runtime. Clojure provides easy access to the Java frameworks, with optional type hints and type inference, to ensure that calls to Java can avoid reflection.\n",
    ">\n",
    "> Clojure is a dialect of Lisp, and shares with Lisp the code-as-data philosophy and a powerful macro system. Clojure is predominantly a functional programming language, and features a rich set of immutable, persistent data structures. When mutable state is needed, Clojure offers a software transactional memory system and reactive Agent system that ensure clean, correct, multithreaded designs.\n",
    "\n",
    "<u>Source</u>: https://clojure.org/\n",
    "\n",
    "Key facts:\n",
    "\n",
    "* Clojure code can compile to JVM bytecode, .Net CLR and transpile to JavaScript - ClojureScript\n",
    "* Clojure part of the LISP family of languages, making heavy usage of parens\n",
    "* It's a dynamically-typed language\n",
    "\n",
    "## Straight into the pit\n",
    "\n",
    "In most widespread languages (Java, JavaScript, .Net, etc.), this is how an addition would look like:\n",
    "\n",
    "    1 + 2;\n",
    "\n",
    "This is how it translates in Clojure:"
   ]
  },
  {
   "cell_type": "code",
   "execution_count": 9,
   "metadata": {},
   "outputs": [
    {
     "data": {
      "text/plain": [
       "3"
      ]
     },
     "execution_count": 9,
     "metadata": {},
     "output_type": "execute_result"
    }
   ],
   "source": [
    "(+ 1 2)"
   ]
  },
  {
   "cell_type": "markdown",
   "metadata": {},
   "source": [
    "Parens are a big hint that Clojure is a LISP dialect.\n",
    "There are very few keywords in Clojure.\n",
    "\n",
    "To check the result of evaluating the expression, set the focus on the code snippet, and click on the Run button.\n",
    "\n",
    "It's your turn:\n",
    "in the cell below, write the expression of the product of 2 by 2.\n",
    "Check the result is as expected."
   ]
  },
  {
   "cell_type": "code",
   "execution_count": null,
   "metadata": {},
   "outputs": [],
   "source": [
    "()"
   ]
  },
  {
   "cell_type": "markdown",
   "metadata": {},
   "source": [
    "Let's add more arguments to the function:"
   ]
  },
  {
   "cell_type": "code",
   "execution_count": 4,
   "metadata": {},
   "outputs": [
    {
     "data": {
      "text/plain": [
       "10"
      ]
     },
     "execution_count": 4,
     "metadata": {},
     "output_type": "execute_result"
    }
   ],
   "source": [
    "(+ 1 2 3 4)"
   ]
  },
  {
   "cell_type": "markdown",
   "metadata": {},
   "source": [
    "Check the result of the execution of the above expression.\n",
    "\n",
    "Clojure evaluates the first element as the function to execute, all others elements are the function's arguments.\n",
    "Try to guess the result of the following expressions:"
   ]
  },
  {
   "cell_type": "code",
   "execution_count": 10,
   "metadata": {},
   "outputs": [
    {
     "data": {
      "text/plain": [
       "-4"
      ]
     },
     "execution_count": 10,
     "metadata": {},
     "output_type": "execute_result"
    }
   ],
   "source": [
    "(- 1 2 3)"
   ]
  },
  {
   "cell_type": "markdown",
   "metadata": {},
   "source": [
    "Obviously, the expression is evaluated from left to right.\n",
    "\n",
    "* First: 1 - 2 = -1\n",
    "* Second: -1 - 3 = -4\n",
    "\n",
    "In other languages, parens are used to change the order of evaluation:\n",
    "\n",
    "    1 - (2 + 3)\n",
    "\n",
    "Likewise, in Clojure parens are evaluated in order, starting with the most nested one first:"
   ]
  },
  {
   "cell_type": "code",
   "execution_count": 6,
   "metadata": {},
   "outputs": [
    {
     "data": {
      "text/plain": [
       "13"
      ]
     },
     "execution_count": 6,
     "metadata": {},
     "output_type": "execute_result"
    }
   ],
   "source": [
    "(+ 1 (* (- 6 2) 3))"
   ]
  },
  {
   "cell_type": "markdown",
   "metadata": {},
   "source": [
    "Expressions are evaluted in order:\n",
    "\n",
    "1. `(- 6 2)` => 4\n",
    "2. `(* 4 3)` => 12\n",
    "3. `(+ 1 12)` => 13\n",
    "\n",
    "Refactor `(- 1 2 3)` by using nested expressions - while keeping the same result."
   ]
  },
  {
   "cell_type": "code",
   "execution_count": 9,
   "metadata": {},
   "outputs": [
    {
     "data": {
      "text/plain": [
       "2"
      ]
     },
     "execution_count": 9,
     "metadata": {},
     "output_type": "execute_result"
    }
   ],
   "source": [
    "()"
   ]
  },
  {
   "cell_type": "markdown",
   "metadata": {},
   "source": [
    "An important note to finish this section:\n",
    "**in Clojure, every expression evaluates to a result.**\n",
    "\n",
    "## Variables\n",
    "\n",
    "In Clojure, it's possible to define a variable with the `def` keyword.\n",
    "Let's do it:"
   ]
  },
  {
   "cell_type": "code",
   "execution_count": 13,
   "metadata": {},
   "outputs": [
    {
     "data": {
      "text/plain": [
       "#'user/x"
      ]
     },
     "execution_count": 13,
     "metadata": {},
     "output_type": "execute_result"
    }
   ],
   "source": [
    "(def x 3)"
   ]
  },
  {
   "cell_type": "markdown",
   "metadata": {},
   "source": [
    "Now, create a variable `y` with value `2`."
   ]
  },
  {
   "cell_type": "code",
   "execution_count": 14,
   "metadata": {},
   "outputs": [
    {
     "data": {
      "text/plain": [
       "#'user/y"
      ]
     },
     "execution_count": 14,
     "metadata": {},
     "output_type": "execute_result"
    }
   ],
   "source": [
    "(def y 2)"
   ]
  },
  {
   "cell_type": "markdown",
   "metadata": {},
   "source": [
    "Guess the result of the evaluation of the following expression."
   ]
  },
  {
   "cell_type": "code",
   "execution_count": 16,
   "metadata": {},
   "outputs": [
    {
     "data": {
      "text/plain": [
       "5"
      ]
     },
     "execution_count": 16,
     "metadata": {},
     "output_type": "execute_result"
    }
   ],
   "source": [
    "(+ x y)"
   ]
  },
  {
   "cell_type": "markdown",
   "metadata": {},
   "source": [
    "Variables defined with `def` are **global**.\n",
    "We will see later how to create variable with a more narrow scope.\n",
    "\n",
    "## Types\n",
    "\n",
    "Clojure is a _dynamically_-typed language:\n",
    "the value contained by a variable can change over time, and nothing prevents such values to be of different types _e.g._ `Long` to `String`.\n",
    "\n",
    "Let's redefine the `x` variable defined above:"
   ]
  },
  {
   "cell_type": "code",
   "execution_count": 3,
   "metadata": {},
   "outputs": [
    {
     "data": {
      "text/plain": [
       "#'user/x"
      ]
     },
     "execution_count": 3,
     "metadata": {},
     "output_type": "execute_result"
    }
   ],
   "source": [
    "(def x \"Hello\")"
   ]
  },
  {
   "cell_type": "markdown",
   "metadata": {},
   "source": [
    "Now, evaluate `x`:"
   ]
  },
  {
   "cell_type": "code",
   "execution_count": 4,
   "metadata": {},
   "outputs": [
    {
     "data": {
      "text/plain": [
       "\"Hello\""
      ]
     },
     "execution_count": 4,
     "metadata": {},
     "output_type": "execute_result"
    }
   ],
   "source": [
    "x"
   ]
  },
  {
   "cell_type": "markdown",
   "metadata": {},
   "source": [
    "Just to be sure, evaluate `y`:"
   ]
  },
  {
   "cell_type": "code",
   "execution_count": null,
   "metadata": {},
   "outputs": [],
   "source": []
  },
  {
   "cell_type": "markdown",
   "metadata": {},
   "source": [
    "## Functions\n",
    "\n",
    "Functions are defined with the `fn` keyword.\n",
    "Note that this is actually the second keyword in Clojure's syntax we have seen so far.\n",
    "\n",
    "Here's a function definition:"
   ]
  },
  {
   "cell_type": "code",
   "execution_count": 26,
   "metadata": {},
   "outputs": [
    {
     "data": {
      "text/plain": [
       "#function[user/eval5378/fn--5379]"
      ]
     },
     "execution_count": 26,
     "metadata": {},
     "output_type": "execute_result"
    }
   ],
   "source": [
    "(fn [] (print \"Hi!\"))"
   ]
  },
  {
   "cell_type": "markdown",
   "metadata": {},
   "source": [
    "This is actually pretty useless, since this describes an _anonymous_ function.\n",
    "To call the function, it must be evaluated.\n",
    "\n",
    "To evaluate the anonymous function, just wrap it in parens:"
   ]
  },
  {
   "cell_type": "code",
   "execution_count": 27,
   "metadata": {},
   "outputs": [
    {
     "name": "stdout",
     "output_type": "stream",
     "text": [
      "Hi!"
     ]
    }
   ],
   "source": [
    "((fn [] (print \"Hi!\")))"
   ]
  },
  {
   "cell_type": "markdown",
   "metadata": {},
   "source": [
    "That is still not very useful...\n",
    "In most cases, functions have a name, so they can be referenced easily, and hopefully reused.\n",
    "\n",
    "The `(fn)` syntax defines a higher-order function, that can be passed around.\n",
    "Giving the function a name is akin to assigning this higher-order anonymous function to a variable.\n",
    "\n",
    "Let's combine the two keywords we have seen so far:"
   ]
  },
  {
   "cell_type": "code",
   "execution_count": 28,
   "metadata": {},
   "outputs": [
    {
     "data": {
      "text/plain": [
       "#'user/hi"
      ]
     },
     "execution_count": 28,
     "metadata": {},
     "output_type": "execute_result"
    }
   ],
   "source": [
    "(def hi\n",
    "    (fn [] (print \"Hi!\")))"
   ]
  },
  {
   "cell_type": "markdown",
   "metadata": {},
   "source": [
    "Now, try to call this newly defined function:"
   ]
  },
  {
   "cell_type": "code",
   "execution_count": null,
   "metadata": {},
   "outputs": [],
   "source": [
    "()"
   ]
  },
  {
   "cell_type": "markdown",
   "metadata": {},
   "source": [
    "While perfectly working, this way of declaring functions feels a bit awkward.\n",
    "Clojure allows an alternate syntax, `defn`:"
   ]
  },
  {
   "cell_type": "code",
   "execution_count": null,
   "metadata": {},
   "outputs": [],
   "source": [
    "(defn hi\n",
    "    []\n",
    "    (print \"Hi!\"))"
   ]
  },
  {
   "cell_type": "markdown",
   "metadata": {},
   "source": [
    "Evaluate the function and check the result is the same as above:"
   ]
  },
  {
   "cell_type": "code",
   "execution_count": null,
   "metadata": {},
   "outputs": [],
   "source": [
    "()"
   ]
  },
  {
   "cell_type": "markdown",
   "metadata": {},
   "source": [
    "In Clojure, functions' - and variables' - names follow kebab-case:\n",
    "words are in lower cases, and dashes are used to break between them.\n",
    "\n",
    "There are 2 additional conventions:\n",
    "\n",
    "1. If the function returns a `boolean`, it ends with `?`\n",
    "2. If it has _side-effects_, it ends with `!`\n",
    "\n",
    "## Macros\n",
    "\n",
    "A note about _macros_ - feel free to skip this section.\n",
    "\n",
    "`defn` is not a new keyword.\n",
    "It's a _macro_.\n",
    "In fact, Clojure defines only a few keywords - remember `def` and `fn`?\n",
    "The rest is either macros - `defn`, and functions - `+` and `print`.\n",
    "\n",
    "As in C/C++, macros allow to change the code that will be compiled.\n",
    "That's easy to achieve because Clojure, as a LISP dialect, is homoiconic.\n",
    "\n",
    "> A language is homoiconic if a program written in it can be manipulated as data using the language, and thus the program's internal representation can be inferred just by reading the program itself.\n",
    "In homoiconic languages, all code can be accessed and transformed as data, using the same representation.\n",
    "\n",
    "<u>Source</u>: https://en.wikipedia.org/wiki/Homoiconicity\n",
    "\n",
    "Clojure provides a way to get the final form of a macro, via the `macroexpand` macro.\n",
    "Check the final form of our defined function:"
   ]
  },
  {
   "cell_type": "code",
   "execution_count": 38,
   "metadata": {},
   "outputs": [
    {
     "data": {
      "text/plain": [
       "(def hi (clojure.core/fn ([] (print \"Hi!\"))))"
      ]
     },
     "execution_count": 38,
     "metadata": {},
     "output_type": "execute_result"
    }
   ],
   "source": [
    "(macroexpand '(defn hi [] (print \"Hi!\")))"
   ]
  },
  {
   "cell_type": "markdown",
   "metadata": {},
   "source": [
    "It should look pretty similar to the way we defined it ourselves above.\n",
    "\n",
    "If the output looks like `#'user/hi`, then verify you didn't miss the single quote `(macroexpand '(mymacro))`.\n",
    "\n",
    "With macros, one can not only provide new constructs, but also change how Clojure works.\n",
    "Try to guess what the following snippet evaluates to:"
   ]
  },
  {
   "cell_type": "markdown",
   "metadata": {},
   "source": [
    "// TODO\n",
    "\n",
    "* Structure de données : `Vector`, `List`, `Set` & `Map`\n",
    "* Immutability\n",
    "* Threading macros\n",
    "* Spec: contract-based development\n",
    "* Atom\n",
    "* Java interop"
   ]
  },
  {
   "cell_type": "code",
   "execution_count": null,
   "metadata": {},
   "outputs": [],
   "source": []
  }
 ],
 "metadata": {
  "kernelspec": {
   "display_name": "Clojure",
   "language": "clojure",
   "name": "clojure"
  },
  "language_info": {
   "file_extension": ".clj",
   "mimetype": "text/x-clojure",
   "name": "clojure",
   "version": "1.8.0"
  }
 },
 "nbformat": 4,
 "nbformat_minor": 2
}
